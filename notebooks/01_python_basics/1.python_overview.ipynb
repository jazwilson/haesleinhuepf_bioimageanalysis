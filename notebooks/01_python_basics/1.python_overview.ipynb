{
 "cells": [
  {
   "attachments": {},
   "cell_type": "markdown",
   "metadata": {},
   "source": [
    "# Notebook: python basics \n",
    "[Bioimage analysis]('https://haesleinhuepf.github.io/BioImageAnalysisNotebooks/intro.html')"
   ]
  },
  {
   "attachments": {},
   "cell_type": "markdown",
   "metadata": {},
   "source": [
    "Prepare env\n",
    "> mamba create --name devbio-napari-env python=3.9 devbio-napari -c conda-forge\n",
    "\n",
    "Test env\n",
    "> conda activate devbio-napari-env"
   ]
  },
  {
   "attachments": {},
   "cell_type": "markdown",
   "metadata": {},
   "source": [
    "Test graphics card is installed:"
   ]
  },
  {
   "cell_type": "code",
   "execution_count": 1,
   "metadata": {},
   "outputs": [],
   "source": [
    "import pyclesperanto_prototype as cle"
   ]
  },
  {
   "cell_type": "code",
   "execution_count": 2,
   "metadata": {},
   "outputs": [
    {
     "data": {
      "text/plain": [
       "<function pyclesperanto_prototype._tier0._device.get_device() -> pyclesperanto_prototype._tier0._device.Device>"
      ]
     },
     "execution_count": 2,
     "metadata": {},
     "output_type": "execute_result"
    }
   ],
   "source": [
    "cle.get_device"
   ]
  },
  {
   "attachments": {},
   "cell_type": "markdown",
   "metadata": {},
   "source": [
    "**f-strings exercise**: Marie Curie’s name and birthdate are stored in variables. Concatenate them in one string variable and print it out. The output should be “Marie Curie, * 7 November 1867”"
   ]
  },
  {
   "cell_type": "code",
   "execution_count": 3,
   "metadata": {},
   "outputs": [
    {
     "name": "stdout",
     "output_type": "stream",
     "text": [
      "\"Marie Curie, *7 November 1867\"\n"
     ]
    }
   ],
   "source": [
    "first_name = \"Marie\"\n",
    "last_name = \"Curie\"\n",
    "\n",
    "birthday_day = 7\n",
    "birthday_month = \"November\"\n",
    "birthday_year = 1867\n",
    "\n",
    "print(f'\"{first_name} {last_name}, *{birthday_day} {birthday_month} {birthday_year}\"')"
   ]
  },
  {
   "attachments": {},
   "cell_type": "markdown",
   "metadata": {},
   "source": [
    "**Lists exercise:** Assume you did measurements on multiple days. Compute average measurement of this week?"
   ]
  },
  {
   "cell_type": "code",
   "execution_count": 4,
   "metadata": {},
   "outputs": [],
   "source": [
    "measurements_monday = [2.3, 3.1, 5.6]\n",
    "measurements_tuesday = [1.8, 7.0]\n",
    "measurements_wednesday = [4.5, 1.5, 6.4, 3.2]\n",
    "measurements_thursday = [1.9, 2.0]\n",
    "measurements_friday = [4.4]"
   ]
  },
  {
   "cell_type": "code",
   "execution_count": 5,
   "metadata": {},
   "outputs": [],
   "source": [
    "total = sum(\n",
    "    measurements_friday\n",
    "    + measurements_monday\n",
    "    + measurements_thursday\n",
    "    + measurements_tuesday\n",
    "    + measurements_wednesday\n",
    ")\n",
    "len = len(\n",
    "    measurements_friday\n",
    "    + measurements_monday\n",
    "    + measurements_thursday\n",
    "    + measurements_tuesday\n",
    "    + measurements_wednesday\n",
    ")"
   ]
  },
  {
   "cell_type": "code",
   "execution_count": 6,
   "metadata": {},
   "outputs": [
    {
     "name": "stdout",
     "output_type": "stream",
     "text": [
      "3.641666666666667\n"
     ]
    }
   ],
   "source": [
    "average = total / len\n",
    "print(average)"
   ]
  },
  {
   "attachments": {},
   "cell_type": "markdown",
   "metadata": {},
   "source": [
    "***Cropping lists exercise:*** Please select the three numbers 23, 9 and 78 from data using a single python command similar to the commands shown above."
   ]
  },
  {
   "cell_type": "code",
   "execution_count": 7,
   "metadata": {},
   "outputs": [],
   "source": [
    "data = [34, 0, 65, 23, 51, 9, 50, 78, 34, 100]"
   ]
  },
  {
   "cell_type": "code",
   "execution_count": 8,
   "metadata": {},
   "outputs": [
    {
     "data": {
      "text/plain": [
       "[23, 9, 78]"
      ]
     },
     "execution_count": 8,
     "metadata": {},
     "output_type": "execute_result"
    }
   ],
   "source": [
    "data[3:8:2]"
   ]
  },
  {
   "attachments": {},
   "cell_type": "markdown",
   "metadata": {},
   "source": [
    "***Sorting lists exercise:***\n",
    "Find out the median of these two lists of numbers"
   ]
  },
  {
   "cell_type": "code",
   "execution_count": 9,
   "metadata": {},
   "outputs": [],
   "source": [
    "data1 = [6, 4, 3, 4, 8, 10]\n",
    "data2 = [6, 4, 3, 4, 8, 10, 8]"
   ]
  },
  {
   "cell_type": "code",
   "execution_count": 10,
   "metadata": {},
   "outputs": [],
   "source": [
    "import numpy as np"
   ]
  },
  {
   "cell_type": "code",
   "execution_count": 11,
   "metadata": {},
   "outputs": [
    {
     "name": "stdout",
     "output_type": "stream",
     "text": [
      "median of two arrays :  6.0\n"
     ]
    }
   ],
   "source": [
    "print(\"median of two arrays : \", np.median(data1 + data2))"
   ]
  },
  {
   "attachments": {},
   "cell_type": "markdown",
   "metadata": {},
   "source": [
    "***Masking Arrays exercise:***\n",
    "- Create a new mask for all measurements below 20.\n",
    "\n",
    "- Apply the mask to retrieve a new array with numbers below 20.\n",
    "\n",
    "- Compute the average of all numbers below 20."
   ]
  },
  {
   "cell_type": "code",
   "execution_count": 12,
   "metadata": {},
   "outputs": [
    {
     "data": {
      "text/plain": [
       "array([ 1, 17, 25,  3,  5, 26, 12])"
      ]
     },
     "execution_count": 12,
     "metadata": {},
     "output_type": "execute_result"
    }
   ],
   "source": [
    "import numpy\n",
    "\n",
    "measurements = numpy.asarray([1, 17, 25, 3, 5, 26, 12])\n",
    "measurements"
   ]
  },
  {
   "cell_type": "code",
   "execution_count": 13,
   "metadata": {},
   "outputs": [
    {
     "data": {
      "text/plain": [
       "array([ True,  True, False,  True,  True, False,  True])"
      ]
     },
     "execution_count": 13,
     "metadata": {},
     "output_type": "execute_result"
    }
   ],
   "source": [
    "# mask for measurements below 20\n",
    "mask = measurements < 20\n",
    "mask"
   ]
  },
  {
   "cell_type": "code",
   "execution_count": 14,
   "metadata": {},
   "outputs": [
    {
     "data": {
      "text/plain": [
       "array([ 1, 17,  3,  5, 12])"
      ]
     },
     "execution_count": 14,
     "metadata": {},
     "output_type": "execute_result"
    }
   ],
   "source": [
    "# apply mask to retrieve new array with numbers below 20\n",
    "measurements2 = measurements[mask]\n",
    "measurements2"
   ]
  },
  {
   "cell_type": "code",
   "execution_count": 15,
   "metadata": {},
   "outputs": [
    {
     "data": {
      "text/plain": [
       "7.6"
      ]
     },
     "execution_count": 15,
     "metadata": {},
     "output_type": "execute_result"
    }
   ],
   "source": [
    "# average of all numbers below 20\n",
    "np.average(measurements2)"
   ]
  },
  {
   "attachments": {},
   "cell_type": "markdown",
   "metadata": {},
   "source": [
    "***Dictionaries exercise:*** *You just measured the radius of three circles. Write them into a table and add a column with corresponding circlea area measurements.*"
   ]
  },
  {
   "cell_type": "code",
   "execution_count": 16,
   "metadata": {},
   "outputs": [],
   "source": [
    "import pandas as pd"
   ]
  },
  {
   "cell_type": "code",
   "execution_count": 17,
   "metadata": {},
   "outputs": [],
   "source": [
    "r1 = 12\n",
    "r2 = 8\n",
    "r3 = 15"
   ]
  },
  {
   "cell_type": "code",
   "execution_count": 18,
   "metadata": {},
   "outputs": [],
   "source": [
    "id = [\"r1\", \"r2\", \"r3\"]\n",
    "radius = [r1, r2, r3]"
   ]
  },
  {
   "cell_type": "code",
   "execution_count": 19,
   "metadata": {},
   "outputs": [
    {
     "data": {
      "text/html": [
       "<div>\n",
       "<style scoped>\n",
       "    .dataframe tbody tr th:only-of-type {\n",
       "        vertical-align: middle;\n",
       "    }\n",
       "\n",
       "    .dataframe tbody tr th {\n",
       "        vertical-align: top;\n",
       "    }\n",
       "\n",
       "    .dataframe thead th {\n",
       "        text-align: right;\n",
       "    }\n",
       "</style>\n",
       "<table border=\"1\" class=\"dataframe\">\n",
       "  <thead>\n",
       "    <tr style=\"text-align: right;\">\n",
       "      <th></th>\n",
       "      <th>id</th>\n",
       "      <th>radius</th>\n",
       "    </tr>\n",
       "  </thead>\n",
       "  <tbody>\n",
       "    <tr>\n",
       "      <th>0</th>\n",
       "      <td>r1</td>\n",
       "      <td>12</td>\n",
       "    </tr>\n",
       "    <tr>\n",
       "      <th>1</th>\n",
       "      <td>r2</td>\n",
       "      <td>8</td>\n",
       "    </tr>\n",
       "    <tr>\n",
       "      <th>2</th>\n",
       "      <td>r3</td>\n",
       "      <td>15</td>\n",
       "    </tr>\n",
       "  </tbody>\n",
       "</table>\n",
       "</div>"
      ],
      "text/plain": [
       "   id  radius\n",
       "0  r1      12\n",
       "1  r2       8\n",
       "2  r3      15"
      ]
     },
     "execution_count": 19,
     "metadata": {},
     "output_type": "execute_result"
    }
   ],
   "source": [
    "circles = pd.DataFrame({\"id\": id, \"radius\": radius})\n",
    "circles"
   ]
  },
  {
   "cell_type": "code",
   "execution_count": 21,
   "metadata": {},
   "outputs": [],
   "source": [
    "area = []\n",
    "pi = 3.14\n",
    "id = 2\n",
    "\n",
    "for i in radius:\n",
    "    area.append((i**2) * pi)"
   ]
  },
  {
   "cell_type": "code",
   "execution_count": 22,
   "metadata": {},
   "outputs": [
    {
     "data": {
      "text/plain": [
       "[452.16, 200.96, 706.5]"
      ]
     },
     "execution_count": 22,
     "metadata": {},
     "output_type": "execute_result"
    }
   ],
   "source": [
    "area"
   ]
  },
  {
   "cell_type": "code",
   "execution_count": 24,
   "metadata": {},
   "outputs": [
    {
     "name": "stdout",
     "output_type": "stream",
     "text": [
      "   id  radius    area\n",
      "0   2      12  452.16\n",
      "1   2       8  200.96\n",
      "2   2      15  706.50\n"
     ]
    }
   ],
   "source": [
    "data_table = pd.DataFrame({\"id\": id, \"radius\": radius, \"area\": area})\n",
    "print(data_table)"
   ]
  },
  {
   "attachments": {},
   "cell_type": "markdown",
   "metadata": {},
   "source": [
    "**Conditions exercise:** Write python code that prints out the daytime, e.g. “morning”, “noon”, “afternoon”, “evening” and “night” depending on a given time."
   ]
  },
  {
   "cell_type": "code",
   "execution_count": 26,
   "metadata": {},
   "outputs": [],
   "source": [
    "# it's 12:15\n",
    "time_hours = 12\n",
    "time_minutes = 15"
   ]
  },
  {
   "cell_type": "code",
   "execution_count": 27,
   "metadata": {},
   "outputs": [
    {
     "name": "stdout",
     "output_type": "stream",
     "text": [
      "noon\n"
     ]
    }
   ],
   "source": [
    "if time_hours < 12:\n",
    "    print(\"morning\")\n",
    "elif time_hours == 12:\n",
    "    print(\"noon\")\n",
    "elif (time_hours > 12) & (time_hours < 5):\n",
    "    print(\"afternoon\")\n",
    "elif (time_hours >= 5) & (time_hours < 8):\n",
    "    print(\"evening\")\n",
    "else:\n",
    "    print(\"night\")"
   ]
  },
  {
   "attachments": {},
   "cell_type": "markdown",
   "metadata": {},
   "source": [
    "**Loops exercise 1:**\n",
    "\n",
    "- Assume you have a list of filenames and you want to do something with them, for example print them out. Program a for loop which prints out all file names which end with “tif”."
   ]
  },
  {
   "cell_type": "code",
   "execution_count": 28,
   "metadata": {},
   "outputs": [],
   "source": [
    "file_names = [\"dataset1.tif\", \"dataset2.tif\", \"summary.csv\", \"readme.md\", \"blobs.tif\"]"
   ]
  },
  {
   "cell_type": "code",
   "execution_count": 29,
   "metadata": {},
   "outputs": [
    {
     "name": "stdout",
     "output_type": "stream",
     "text": [
      "dataset1.tif\n",
      "dataset2.tif\n",
      "blobs.tif\n"
     ]
    }
   ],
   "source": [
    "for file in file_names:\n",
    "    # select files ending in .tif\n",
    "    if file.endswith(\".tif\"):\n",
    "        print(file)"
   ]
  },
  {
   "attachments": {},
   "cell_type": "markdown",
   "metadata": {},
   "source": [
    "**Loops exercise 2:**\n",
    "\n",
    "-Assume you have a list of circle radii. Make a table (dictionary) with two columns: radius and area."
   ]
  },
  {
   "cell_type": "code",
   "execution_count": 30,
   "metadata": {},
   "outputs": [],
   "source": [
    "radii = [3, 15, 67, 33, 12, 8, 12, 9, 22]"
   ]
  },
  {
   "cell_type": "code",
   "execution_count": 34,
   "metadata": {},
   "outputs": [
    {
     "data": {
      "text/plain": [
       "[{'radii': [3, 15, 67, 33, 12, 8, 12, 9, 22],\n",
       "  'area': [28.26,\n",
       "   706.5,\n",
       "   14095.460000000001,\n",
       "   3419.46,\n",
       "   452.16,\n",
       "   200.96,\n",
       "   452.16,\n",
       "   254.34,\n",
       "   1519.76]}]"
      ]
     },
     "execution_count": 34,
     "metadata": {},
     "output_type": "execute_result"
    }
   ],
   "source": [
    "area = []\n",
    "pi = 3.14\n",
    "\n",
    "for radius in radii:\n",
    "    area.append((radius**2) * pi)\n",
    "\n",
    "circle = [{\"radii\": radii, \"area\": area}]\n",
    "\n",
    "circle"
   ]
  },
  {
   "attachments": {},
   "cell_type": "markdown",
   "metadata": {},
   "source": [
    "**Functions**"
   ]
  },
  {
   "attachments": {},
   "cell_type": "markdown",
   "metadata": {},
   "source": [
    "Documenting functions using a doc string:"
   ]
  },
  {
   "cell_type": "code",
   "execution_count": 35,
   "metadata": {},
   "outputs": [],
   "source": [
    "def square(number):\n",
    "    \"\"\"\n",
    "    Squares a number by multiplying it with itself and returns its result.\n",
    "    \"\"\"\n",
    "\n",
    "    return number * number"
   ]
  },
  {
   "cell_type": "code",
   "execution_count": 36,
   "metadata": {},
   "outputs": [
    {
     "name": "stdout",
     "output_type": "stream",
     "text": [
      "\n",
      "    Squares a number by multiplying it with itself and returns its result.\n",
      "    \n"
     ]
    }
   ],
   "source": [
    "# Can access/read doc string of function like this:\n",
    "print(square.__doc__)"
   ]
  },
  {
   "cell_type": "code",
   "execution_count": 37,
   "metadata": {},
   "outputs": [
    {
     "name": "stdout",
     "output_type": "stream",
     "text": [
      "\u001b[1;31mSignature:\u001b[0m \u001b[0msquare\u001b[0m\u001b[1;33m(\u001b[0m\u001b[0mnumber\u001b[0m\u001b[1;33m)\u001b[0m\u001b[1;33m\u001b[0m\u001b[1;33m\u001b[0m\u001b[0m\n",
      "\u001b[1;31mDocstring:\u001b[0m Squares a number by multiplying it with itself and returns its result.\n",
      "\u001b[1;31mFile:\u001b[0m      c:\\users\\jaz\\appdata\\local\\temp\\ipykernel_2168\\2780286315.py\n",
      "\u001b[1;31mType:\u001b[0m      function"
     ]
    }
   ],
   "source": [
    "# show the docstring shown side-by-side in your notebook:\n",
    "?square"
   ]
  },
  {
   "attachments": {},
   "cell_type": "markdown",
   "metadata": {},
   "source": [
    "**Functions exercise:**\n",
    "- Write a function that takes two parameters: number_of_points_in_exam and number_of_total_points_in_exam and returns a grade from 1 to 5. Students with > 95% of the points get grade 1, above 80% they get grade 2, above 60% grade 3 and above 50% grade 4. Students with less than 50% get grade 5 and have to repeat the exam. Then, call the function for three students who had 15, 25 and 29 points in an exam with 30 total points."
   ]
  },
  {
   "cell_type": "code",
   "execution_count": 39,
   "metadata": {},
   "outputs": [
    {
     "data": {
      "text/plain": [
       "80.0"
      ]
     },
     "execution_count": 39,
     "metadata": {},
     "output_type": "execute_result"
    }
   ],
   "source": [
    "number_of_points_in_exam = 8\n",
    "number_of_total_points_in_exam = 10\n",
    "\n",
    "percent_grade = (number_of_points_in_exam / number_of_total_points_in_exam) * 100\n",
    "\n",
    "percent_grade"
   ]
  },
  {
   "cell_type": "code",
   "execution_count": 40,
   "metadata": {},
   "outputs": [],
   "source": [
    "def percent_grade(number_of_points_in_exam, number_of_total_points_in_exam):\n",
    "    \"\"\"calculate grade percentage\"\"\"\n",
    "    result = (number_of_points_in_exam / number_of_total_points_in_exam) * 100\n",
    "\n",
    "    return result"
   ]
  },
  {
   "cell_type": "code",
   "execution_count": 51,
   "metadata": {},
   "outputs": [
    {
     "data": {
      "text/plain": [
       "90.0"
      ]
     },
     "execution_count": 51,
     "metadata": {},
     "output_type": "execute_result"
    }
   ],
   "source": [
    "percent_grade(9, 10)"
   ]
  },
  {
   "cell_type": "code",
   "execution_count": 50,
   "metadata": {},
   "outputs": [
    {
     "name": "stdout",
     "output_type": "stream",
     "text": [
      "Student grade 2\n"
     ]
    }
   ],
   "source": [
    "calculated_grade = percent_grade(9, 10)\n",
    "\n",
    "\n",
    "if calculated_grade > 95:\n",
    "    print(\"Student grade 1\")\n",
    "elif (calculated_grade > 80) & (calculated_grade < 95):\n",
    "    print(\"Student grade 2\")\n",
    "elif (calculated_grade > 60) & (calculated_grade < 80):\n",
    "    print(\"Student grade 3\")\n",
    "elif (calculated_grade > 50) & (calculated_grade < 60):\n",
    "    print(\"Student grade 4\")\n",
    "else:\n",
    "    print(\"Repeat exam\")"
   ]
  },
  {
   "cell_type": "code",
   "execution_count": 58,
   "metadata": {},
   "outputs": [],
   "source": [
    "calculated_grade = percent_grade(9, 10)\n",
    "\n",
    "\n",
    "def print_grade(calculated_grade):\n",
    "    \"\"\"define categories for grade percentage\"\"\"\n",
    "    if calculated_grade > 95:\n",
    "        print(\"Student grade 1\")\n",
    "    elif (calculated_grade > 80) & (calculated_grade < 95):\n",
    "        print(\"Student grade 2\")\n",
    "    elif (calculated_grade > 60) & (calculated_grade < 80):\n",
    "        print(\"Student grade 3\")\n",
    "    elif (calculated_grade > 50) & (calculated_grade < 60):\n",
    "        print(\"Student grade 4\")\n",
    "    else:\n",
    "        print(\"Repeat exam\")"
   ]
  },
  {
   "cell_type": "code",
   "execution_count": 59,
   "metadata": {},
   "outputs": [
    {
     "name": "stdout",
     "output_type": "stream",
     "text": [
      "Repeat exam\n"
     ]
    }
   ],
   "source": [
    "calculated_grade = percent_grade(15, 30)\n",
    "print_grade(calculated_grade)"
   ]
  }
 ],
 "metadata": {
  "kernelspec": {
   "display_name": "devbio",
   "language": "python",
   "name": "python3"
  },
  "language_info": {
   "codemirror_mode": {
    "name": "ipython",
    "version": 3
   },
   "file_extension": ".py",
   "mimetype": "text/x-python",
   "name": "python",
   "nbconvert_exporter": "python",
   "pygments_lexer": "ipython3",
   "version": "3.9.15"
  },
  "orig_nbformat": 4,
  "vscode": {
   "interpreter": {
    "hash": "5d4d54d89efc4fcbcddefdd5d3f8b73d3cb341521ad17d8a23a4e0a92052c6b8"
   }
  }
 },
 "nbformat": 4,
 "nbformat_minor": 2
}
