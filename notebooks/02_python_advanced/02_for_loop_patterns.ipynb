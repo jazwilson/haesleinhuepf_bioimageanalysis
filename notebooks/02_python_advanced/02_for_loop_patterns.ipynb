{
 "cells": [
  {
   "attachments": {},
   "cell_type": "markdown",
   "metadata": {},
   "source": [
    "for loop patterns"
   ]
  },
  {
   "cell_type": "code",
   "execution_count": 2,
   "metadata": {},
   "outputs": [
    {
     "name": "stdout",
     "output_type": "stream",
     "text": [
      "* \n",
      "* * \n",
      "* * * \n",
      "* * * * \n",
      "* * * * * \n"
     ]
    }
   ],
   "source": [
    "# function to print a pattern\n",
    "def pattern(n):\n",
    "    # outer loop handle number of rows\n",
    "    # n rows\n",
    "    for i in range(0, n):\n",
    "        # inner loop to handle number of cols\n",
    "        # values changing according to outer loop\n",
    "        for j in range(0, i + 1):\n",
    "            # print stars\n",
    "            print(\"* \", end=\"\")\n",
    "\n",
    "        # ending line after each row\n",
    "        print(\"\\r\")\n",
    "\n",
    "\n",
    "# input\n",
    "n = 5\n",
    "pattern(n)"
   ]
  },
  {
   "attachments": {},
   "cell_type": "markdown",
   "metadata": {},
   "source": [
    "Pyramid:"
   ]
  },
  {
   "cell_type": "code",
   "execution_count": 18,
   "metadata": {},
   "outputs": [
    {
     "name": "stdout",
     "output_type": "stream",
     "text": [
      "    * \n",
      "   * * \n",
      "  * * * \n",
      " * * * * \n",
      "* * * * * \n"
     ]
    }
   ],
   "source": [
    "num_rows = int(input(\"enter the number of rows\"))\n",
    "\n",
    "# outer loop rows\n",
    "for i in range(0, num_rows):\n",
    "    # inner loop cols dep on i\n",
    "    for j in range(0, num_rows - i - 1):\n",
    "        print(end=\" \")\n",
    "    for j in range(0, i + 1):\n",
    "        print(\"*\", end=\" \")\n",
    "    print()"
   ]
  },
  {
   "attachments": {},
   "cell_type": "markdown",
   "metadata": {},
   "source": [
    "Half pyramid"
   ]
  },
  {
   "cell_type": "code",
   "execution_count": 23,
   "metadata": {},
   "outputs": [
    {
     "name": "stdout",
     "output_type": "stream",
     "text": [
      "*  \n",
      "*  *  \n",
      "*  *  *  \n",
      "*  *  *  *  \n",
      "*  *  *  *  *  \n"
     ]
    }
   ],
   "source": [
    "# Program to print Left Half Pyramid\n",
    "num_rows = int(input(\"Enter the number of rows\"))\n",
    "k = 1\n",
    "\n",
    "for i in range(0, num_rows):\n",
    "    for j in range(0, k):\n",
    "        print(\"* \", end=\" \")\n",
    "    k = k + 1\n",
    "    print()"
   ]
  },
  {
   "attachments": {},
   "cell_type": "markdown",
   "metadata": {},
   "source": [
    "Right half pyramid"
   ]
  },
  {
   "cell_type": "code",
   "execution_count": 27,
   "metadata": {},
   "outputs": [
    {
     "name": "stdout",
     "output_type": "stream",
     "text": [
      "        *  \n",
      "      *  *  \n",
      "    *  *  *  \n",
      "  *  *  *  *  \n",
      "*  *  *  *  *  \n"
     ]
    }
   ],
   "source": [
    "num_rows = int(input(\"enter num rows\"))\n",
    "\n",
    "k = 8\n",
    "\n",
    "for i in range(0, num_rows):\n",
    "    for j in range(0, k):\n",
    "        print(end=\" \")\n",
    "    k = k - 2\n",
    "    for j in range(0, i + 1):\n",
    "        print(\"* \", end=\" \")\n",
    "    print()"
   ]
  }
 ],
 "metadata": {
  "kernelspec": {
   "display_name": "Python 3",
   "language": "python",
   "name": "python3"
  },
  "language_info": {
   "codemirror_mode": {
    "name": "ipython",
    "version": 3
   },
   "file_extension": ".py",
   "mimetype": "text/x-python",
   "name": "python",
   "nbconvert_exporter": "python",
   "pygments_lexer": "ipython3",
   "version": "3.8.10"
  },
  "orig_nbformat": 4,
  "vscode": {
   "interpreter": {
    "hash": "916dbcbb3f70747c44a77c7bcd40155683ae19c65e1c03b4aa3499c5328201f1"
   }
  }
 },
 "nbformat": 4,
 "nbformat_minor": 2
}
